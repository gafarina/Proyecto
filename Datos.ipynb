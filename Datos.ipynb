{
 "cells": [
  {
   "cell_type": "markdown",
   "metadata": {},
   "source": [
    "### Datos"
   ]
  },
  {
   "cell_type": "code",
   "execution_count": 21,
   "metadata": {},
   "outputs": [
    {
     "name": "stdout",
     "output_type": "stream",
     "text": [
      "The autoreload extension is already loaded. To reload it, use:\n",
      "  %reload_ext autoreload\n"
     ]
    }
   ],
   "source": [
    "%load_ext autoreload\n",
    "%autoreload 2\n",
    "from util import ReadData\n",
    "import pandas as pd\n",
    "import yfinance as yf"
   ]
  },
  {
   "cell_type": "code",
   "execution_count": 22,
   "metadata": {},
   "outputs": [],
   "source": [
    "Datos = ReadData()"
   ]
  },
  {
   "cell_type": "code",
   "execution_count": 30,
   "metadata": {},
   "outputs": [
    {
     "name": "stdout",
     "output_type": "stream",
     "text": [
      "[*********************100%***********************]  1 of 1 completed\n"
     ]
    }
   ],
   "source": [
    "DatosFalabella = Datos.GetDataFromYahoo('FALABELLA.SN','2019-07-01','2020-12-01','1d')"
   ]
  },
  {
   "cell_type": "markdown",
   "metadata": {},
   "source": [
    "### El formato de los datos debe ser de esta forma"
   ]
  },
  {
   "cell_type": "code",
   "execution_count": 31,
   "metadata": {},
   "outputs": [
    {
     "data": {
      "text/html": [
       "<div>\n",
       "<style scoped>\n",
       "    .dataframe tbody tr th:only-of-type {\n",
       "        vertical-align: middle;\n",
       "    }\n",
       "\n",
       "    .dataframe tbody tr th {\n",
       "        vertical-align: top;\n",
       "    }\n",
       "\n",
       "    .dataframe thead th {\n",
       "        text-align: right;\n",
       "    }\n",
       "</style>\n",
       "<table border=\"1\" class=\"dataframe\">\n",
       "  <thead>\n",
       "    <tr style=\"text-align: right;\">\n",
       "      <th></th>\n",
       "      <th>Open</th>\n",
       "      <th>High</th>\n",
       "      <th>Low</th>\n",
       "      <th>Close</th>\n",
       "      <th>Adj Close</th>\n",
       "      <th>Volume</th>\n",
       "    </tr>\n",
       "    <tr>\n",
       "      <th>Date</th>\n",
       "      <th></th>\n",
       "      <th></th>\n",
       "      <th></th>\n",
       "      <th></th>\n",
       "      <th></th>\n",
       "      <th></th>\n",
       "    </tr>\n",
       "  </thead>\n",
       "  <tbody>\n",
       "    <tr>\n",
       "      <th>2019-07-01</th>\n",
       "      <td>4401.000000</td>\n",
       "      <td>4475.000000</td>\n",
       "      <td>4380.000000</td>\n",
       "      <td>4401.000000</td>\n",
       "      <td>4401.000000</td>\n",
       "      <td>122686</td>\n",
       "    </tr>\n",
       "    <tr>\n",
       "      <th>2019-07-02</th>\n",
       "      <td>4370.000000</td>\n",
       "      <td>4438.000000</td>\n",
       "      <td>4370.000000</td>\n",
       "      <td>4370.000000</td>\n",
       "      <td>4370.000000</td>\n",
       "      <td>426884</td>\n",
       "    </tr>\n",
       "    <tr>\n",
       "      <th>2019-07-03</th>\n",
       "      <td>4430.000000</td>\n",
       "      <td>4499.299805</td>\n",
       "      <td>4351.500000</td>\n",
       "      <td>4430.000000</td>\n",
       "      <td>4430.000000</td>\n",
       "      <td>252895</td>\n",
       "    </tr>\n",
       "    <tr>\n",
       "      <th>2019-07-04</th>\n",
       "      <td>4425.000000</td>\n",
       "      <td>4448.000000</td>\n",
       "      <td>4401.000000</td>\n",
       "      <td>4425.000000</td>\n",
       "      <td>4425.000000</td>\n",
       "      <td>67617</td>\n",
       "    </tr>\n",
       "    <tr>\n",
       "      <th>2019-07-05</th>\n",
       "      <td>4430.000000</td>\n",
       "      <td>4431.000000</td>\n",
       "      <td>4354.000000</td>\n",
       "      <td>4430.000000</td>\n",
       "      <td>4430.000000</td>\n",
       "      <td>73549</td>\n",
       "    </tr>\n",
       "    <tr>\n",
       "      <th>...</th>\n",
       "      <td>...</td>\n",
       "      <td>...</td>\n",
       "      <td>...</td>\n",
       "      <td>...</td>\n",
       "      <td>...</td>\n",
       "      <td>...</td>\n",
       "    </tr>\n",
       "    <tr>\n",
       "      <th>2020-01-06</th>\n",
       "      <td>3390.000000</td>\n",
       "      <td>3394.000000</td>\n",
       "      <td>3299.899902</td>\n",
       "      <td>3390.000000</td>\n",
       "      <td>3390.000000</td>\n",
       "      <td>113081</td>\n",
       "    </tr>\n",
       "    <tr>\n",
       "      <th>2020-01-07</th>\n",
       "      <td>3450.000000</td>\n",
       "      <td>3495.000000</td>\n",
       "      <td>3380.000000</td>\n",
       "      <td>3450.000000</td>\n",
       "      <td>3450.000000</td>\n",
       "      <td>273437</td>\n",
       "    </tr>\n",
       "    <tr>\n",
       "      <th>2020-01-08</th>\n",
       "      <td>3455.899902</td>\n",
       "      <td>3520.000000</td>\n",
       "      <td>3365.100098</td>\n",
       "      <td>3455.899902</td>\n",
       "      <td>3455.899902</td>\n",
       "      <td>317642</td>\n",
       "    </tr>\n",
       "    <tr>\n",
       "      <th>2020-01-09</th>\n",
       "      <td>3473.000000</td>\n",
       "      <td>3495.000000</td>\n",
       "      <td>3340.000000</td>\n",
       "      <td>3473.000000</td>\n",
       "      <td>3473.000000</td>\n",
       "      <td>190868</td>\n",
       "    </tr>\n",
       "    <tr>\n",
       "      <th>2020-01-10</th>\n",
       "      <td>3550.000000</td>\n",
       "      <td>3589.000000</td>\n",
       "      <td>3406.000000</td>\n",
       "      <td>3550.000000</td>\n",
       "      <td>3550.000000</td>\n",
       "      <td>155770</td>\n",
       "    </tr>\n",
       "  </tbody>\n",
       "</table>\n",
       "<p>130 rows × 6 columns</p>\n",
       "</div>"
      ],
      "text/plain": [
       "                   Open         High          Low        Close    Adj Close  \\\n",
       "Date                                                                          \n",
       "2019-07-01  4401.000000  4475.000000  4380.000000  4401.000000  4401.000000   \n",
       "2019-07-02  4370.000000  4438.000000  4370.000000  4370.000000  4370.000000   \n",
       "2019-07-03  4430.000000  4499.299805  4351.500000  4430.000000  4430.000000   \n",
       "2019-07-04  4425.000000  4448.000000  4401.000000  4425.000000  4425.000000   \n",
       "2019-07-05  4430.000000  4431.000000  4354.000000  4430.000000  4430.000000   \n",
       "...                 ...          ...          ...          ...          ...   \n",
       "2020-01-06  3390.000000  3394.000000  3299.899902  3390.000000  3390.000000   \n",
       "2020-01-07  3450.000000  3495.000000  3380.000000  3450.000000  3450.000000   \n",
       "2020-01-08  3455.899902  3520.000000  3365.100098  3455.899902  3455.899902   \n",
       "2020-01-09  3473.000000  3495.000000  3340.000000  3473.000000  3473.000000   \n",
       "2020-01-10  3550.000000  3589.000000  3406.000000  3550.000000  3550.000000   \n",
       "\n",
       "            Volume  \n",
       "Date                \n",
       "2019-07-01  122686  \n",
       "2019-07-02  426884  \n",
       "2019-07-03  252895  \n",
       "2019-07-04   67617  \n",
       "2019-07-05   73549  \n",
       "...            ...  \n",
       "2020-01-06  113081  \n",
       "2020-01-07  273437  \n",
       "2020-01-08  317642  \n",
       "2020-01-09  190868  \n",
       "2020-01-10  155770  \n",
       "\n",
       "[130 rows x 6 columns]"
      ]
     },
     "execution_count": 31,
     "metadata": {},
     "output_type": "execute_result"
    }
   ],
   "source": [
    "DatosFalabella"
   ]
  },
  {
   "cell_type": "code",
   "execution_count": 34,
   "metadata": {},
   "outputs": [
    {
     "name": "stdout",
     "output_type": "stream",
     "text": [
      "[*********************100%***********************]  1 of 1 completed\n",
      "[*********************100%***********************]  1 of 1 completed\n"
     ]
    }
   ],
   "source": [
    "data = Datos.GetDataFromYahooSeveral('2019-07-01','2020-12-01','1d','Adj Close','CENCOSUD.SN','FALABELLA.SN')"
   ]
  },
  {
   "cell_type": "markdown",
   "metadata": {},
   "source": [
    "### Asi serian los precios ajustados de cierre de Cencosud y Falabella"
   ]
  },
  {
   "cell_type": "code",
   "execution_count": 35,
   "metadata": {},
   "outputs": [
    {
     "data": {
      "text/html": [
       "<div>\n",
       "<style scoped>\n",
       "    .dataframe tbody tr th:only-of-type {\n",
       "        vertical-align: middle;\n",
       "    }\n",
       "\n",
       "    .dataframe tbody tr th {\n",
       "        vertical-align: top;\n",
       "    }\n",
       "\n",
       "    .dataframe thead th {\n",
       "        text-align: right;\n",
       "    }\n",
       "</style>\n",
       "<table border=\"1\" class=\"dataframe\">\n",
       "  <thead>\n",
       "    <tr style=\"text-align: right;\">\n",
       "      <th></th>\n",
       "      <th>CENCOSUD.SN</th>\n",
       "      <th>FALABELLA.SN</th>\n",
       "    </tr>\n",
       "    <tr>\n",
       "      <th>Date</th>\n",
       "      <th></th>\n",
       "      <th></th>\n",
       "    </tr>\n",
       "  </thead>\n",
       "  <tbody>\n",
       "    <tr>\n",
       "      <th>2019-07-01</th>\n",
       "      <td>1350.000000</td>\n",
       "      <td>4401.000000</td>\n",
       "    </tr>\n",
       "    <tr>\n",
       "      <th>2019-07-02</th>\n",
       "      <td>1331.099976</td>\n",
       "      <td>4370.000000</td>\n",
       "    </tr>\n",
       "    <tr>\n",
       "      <th>2019-07-03</th>\n",
       "      <td>1367.000000</td>\n",
       "      <td>4430.000000</td>\n",
       "    </tr>\n",
       "    <tr>\n",
       "      <th>2019-07-04</th>\n",
       "      <td>1357.000000</td>\n",
       "      <td>4425.000000</td>\n",
       "    </tr>\n",
       "    <tr>\n",
       "      <th>2019-07-05</th>\n",
       "      <td>1340.000000</td>\n",
       "      <td>4430.000000</td>\n",
       "    </tr>\n",
       "    <tr>\n",
       "      <th>...</th>\n",
       "      <td>...</td>\n",
       "      <td>...</td>\n",
       "    </tr>\n",
       "    <tr>\n",
       "      <th>2020-01-06</th>\n",
       "      <td>1035.000000</td>\n",
       "      <td>3390.000000</td>\n",
       "    </tr>\n",
       "    <tr>\n",
       "      <th>2020-01-07</th>\n",
       "      <td>1043.099976</td>\n",
       "      <td>3450.000000</td>\n",
       "    </tr>\n",
       "    <tr>\n",
       "      <th>2020-01-08</th>\n",
       "      <td>1021.000000</td>\n",
       "      <td>3455.899902</td>\n",
       "    </tr>\n",
       "    <tr>\n",
       "      <th>2020-01-09</th>\n",
       "      <td>1023.000000</td>\n",
       "      <td>3473.000000</td>\n",
       "    </tr>\n",
       "    <tr>\n",
       "      <th>2020-01-10</th>\n",
       "      <td>1047.900024</td>\n",
       "      <td>3550.000000</td>\n",
       "    </tr>\n",
       "  </tbody>\n",
       "</table>\n",
       "<p>130 rows × 2 columns</p>\n",
       "</div>"
      ],
      "text/plain": [
       "            CENCOSUD.SN  FALABELLA.SN\n",
       "Date                                 \n",
       "2019-07-01  1350.000000   4401.000000\n",
       "2019-07-02  1331.099976   4370.000000\n",
       "2019-07-03  1367.000000   4430.000000\n",
       "2019-07-04  1357.000000   4425.000000\n",
       "2019-07-05  1340.000000   4430.000000\n",
       "...                 ...           ...\n",
       "2020-01-06  1035.000000   3390.000000\n",
       "2020-01-07  1043.099976   3450.000000\n",
       "2020-01-08  1021.000000   3455.899902\n",
       "2020-01-09  1023.000000   3473.000000\n",
       "2020-01-10  1047.900024   3550.000000\n",
       "\n",
       "[130 rows x 2 columns]"
      ]
     },
     "execution_count": 35,
     "metadata": {},
     "output_type": "execute_result"
    }
   ],
   "source": [
    "data"
   ]
  },
  {
   "cell_type": "code",
   "execution_count": null,
   "metadata": {},
   "outputs": [],
   "source": []
  }
 ],
 "metadata": {
  "kernelspec": {
   "display_name": "Proyecto2",
   "language": "python",
   "name": "proyecto2"
  },
  "language_info": {
   "codemirror_mode": {
    "name": "ipython",
    "version": 3
   },
   "file_extension": ".py",
   "mimetype": "text/x-python",
   "name": "python",
   "nbconvert_exporter": "python",
   "pygments_lexer": "ipython3",
   "version": "3.6.9"
  }
 },
 "nbformat": 4,
 "nbformat_minor": 4
}
